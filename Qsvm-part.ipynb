{
 "cells": [
  {
   "cell_type": "code",
   "execution_count": 1,
   "metadata": {},
   "outputs": [],
   "source": [
    "import numpy as np\n",
    "import random\n",
    "import matplotlib.pyplot as plt\n",
    "import pandas as pd\n",
    "%matplotlib inline "
   ]
  },
  {
   "cell_type": "code",
   "execution_count": 7,
   "metadata": {},
   "outputs": [
    {
     "data": {
      "text/html": [
       "<div>\n",
       "<style scoped>\n",
       "    .dataframe tbody tr th:only-of-type {\n",
       "        vertical-align: middle;\n",
       "    }\n",
       "\n",
       "    .dataframe tbody tr th {\n",
       "        vertical-align: top;\n",
       "    }\n",
       "\n",
       "    .dataframe thead th {\n",
       "        text-align: right;\n",
       "    }\n",
       "</style>\n",
       "<table border=\"1\" class=\"dataframe\">\n",
       "  <thead>\n",
       "    <tr style=\"text-align: right;\">\n",
       "      <th></th>\n",
       "      <th>factor1</th>\n",
       "      <th>factor2</th>\n",
       "      <th>class</th>\n",
       "    </tr>\n",
       "  </thead>\n",
       "  <tbody>\n",
       "    <tr>\n",
       "      <th>0</th>\n",
       "      <td>3.542485</td>\n",
       "      <td>1.977398</td>\n",
       "      <td>-1</td>\n",
       "    </tr>\n",
       "    <tr>\n",
       "      <th>1</th>\n",
       "      <td>3.018896</td>\n",
       "      <td>2.556416</td>\n",
       "      <td>-1</td>\n",
       "    </tr>\n",
       "    <tr>\n",
       "      <th>2</th>\n",
       "      <td>7.551510</td>\n",
       "      <td>-1.580030</td>\n",
       "      <td>1</td>\n",
       "    </tr>\n",
       "    <tr>\n",
       "      <th>3</th>\n",
       "      <td>2.114999</td>\n",
       "      <td>-0.004466</td>\n",
       "      <td>-1</td>\n",
       "    </tr>\n",
       "    <tr>\n",
       "      <th>4</th>\n",
       "      <td>8.127113</td>\n",
       "      <td>1.274372</td>\n",
       "      <td>1</td>\n",
       "    </tr>\n",
       "  </tbody>\n",
       "</table>\n",
       "</div>"
      ],
      "text/plain": [
       "    factor1   factor2  class\n",
       "0  3.542485  1.977398     -1\n",
       "1  3.018896  2.556416     -1\n",
       "2  7.551510 -1.580030      1\n",
       "3  2.114999 -0.004466     -1\n",
       "4  8.127113  1.274372      1"
      ]
     },
     "execution_count": 7,
     "metadata": {},
     "output_type": "execute_result"
    }
   ],
   "source": [
    "#file_name = r'D:\\python-ml\\QSVM\\testSet.txt'\n",
    "#file = pd.read_table(file_name,header=None, names=['factor1','factor2','class'])\n",
    "file = pd.read_csv('testSet.txt', header=None, names=['factor1','factor2','class'])\n",
    "file.head()"
   ]
  },
  {
   "cell_type": "code",
   "execution_count": 8,
   "metadata": {},
   "outputs": [
    {
     "data": {
      "text/plain": [
       "Text(0, 0.5, 'factor2')"
      ]
     },
     "execution_count": 8,
     "metadata": {},
     "output_type": "execute_result"
    },
    {
     "data": {
      "image/png": "[encoded data removed]",
      "text/plain": [
       "<Figure size 720x360 with 1 Axes>"
      ]
     },
     "metadata": {},
     "output_type": "display_data"
    }
   ],
   "source": [
    "positive = file[file[\"class\"] == 1]\n",
    "negative = file[file[\"class\"] == -1]\n",
    "fig, ax = plt.subplots(figsize=(10,5))\n",
    "ax.scatter(positive[\"factor1\"], positive[\"factor2\"], s=30, c=\"b\", marker=\"o\", label=\"class 1\")\n",
    "ax.scatter(negative[\"factor1\"], negative[\"factor2\"], s=30, c=\"r\", marker=\"x\", label=\"class -1\")\n",
    "ax.legend()\n",
    "ax.set_xlabel(\"factor1\")\n",
    "ax.set_ylabel(\"factor2\")"
   ]
  },
  {
   "cell_type": "code",
   "execution_count": 9,
   "metadata": {},
   "outputs": [],
   "source": [
    "def load_data_set(file):\n",
    "    orig_data = file.as_matrix()   \n",
    "    cols = orig_data.shape[1]\n",
    "    data_mat = orig_data[:,0:cols-1]\n",
    "    label_mat = orig_data[:,cols-1:cols]\n",
    "    return data_mat, label_mat\n",
    "data_mat, label_mat = load_data_set(file)"
   ]
  },
  {
   "cell_type": "code",
   "execution_count": 10,
   "metadata": {},
   "outputs": [],
   "source": [
    "def select_jrand(i, m):\n",
    "    j = i\n",
    "    while(j==i):\n",
    "        j = int(random.uniform(0,m))\n",
    "    return j"
   ]
  },
  {
   "cell_type": "code",
   "execution_count": 11,
   "metadata": {},
   "outputs": [],
   "source": [
    "def clip_alpha(aj, H, L):\n",
    "    if aj > H:\n",
    "        aj = H\n",
    "    if L > aj:\n",
    "        aj = L\n",
    "    return aj"
   ]
  },
  {
   "cell_type": "code",
   "execution_count": 12,
   "metadata": {},
   "outputs": [],
   "source": [
    "def smo_simple(data_mat, class_label, C, toler, max_iter):\n",
    "    # 循环外的初始化工作\n",
    "    data_mat = np.mat(data_mat); label_mat = np.mat(class_label) \n",
    "    b = 0\n",
    "    m,n = np.shape(data_mat)  \n",
    "    alphas = np.zeros((m,1))       \n",
    "    iter = 0    \n",
    "    while iter < max_iter:\n",
    "        # 内循环的初始化工作\n",
    "        alpha_pairs_changed = 0\n",
    "        for  i in range(m):   \n",
    "            # 第一小段代码  \n",
    "            WT_i = np.dot(np.multiply(alphas, label_mat).T, data_mat)  \n",
    "            f_xi = float(np.dot(WT_i, data_mat[i,:].T)) + b   \n",
    "            Ei = f_xi - float(label_mat[i])    \n",
    "            if((label_mat[i]*Ei < -toler) and  (alphas[i] < C)) or \\\n",
    "            ((label_mat[i]*Ei > toler) and (alphas[i] > 0)):  \n",
    "                j = select_jrand(i, m) \n",
    "                WT_j = np.dot(np.multiply(alphas, label_mat).T, data_mat)\n",
    "                f_xj = float(np.dot(WT_j, data_mat[j,:].T)) + b    \n",
    "                Ej = f_xj - float(label_mat[j])    \n",
    "                alpha_iold = alphas[i].copy()\n",
    "                alpha_jold = alphas[j].copy()\n",
    "\n",
    "               # 第二小段代码\n",
    "                if (label_mat[i] != label_mat[j]):  \n",
    "                    L = max(0, alphas[j] - alphas[i])  # \n",
    "                    H = min(C, C + alphas[j] - alphas[i])\n",
    "                else:                              \n",
    "                    L = max(0, alphas[j] + alphas[i] - C)\n",
    "                    H = min(C, alphas[j] + alphas[i])\n",
    "                if H == L :continue\n",
    "\n",
    "                # 第三小段代码\n",
    "                #添加量子计算swep-test计算向量内积\n",
    "                eta = 2.0 * data_mat[i,:]*data_mat[j,:].T - data_mat[i,:]*data_mat[i,:].T - \\\n",
    "                data_mat[j,:]*data_mat[j,:].T\n",
    "                if eta >= 0: continue\n",
    "                alphas[j] = (alphas[j] - label_mat[j]*(Ei - Ej))/eta\n",
    "                alphas[j] = clip_alpha(alphas[j], H, L)   \n",
    "                if (abs(alphas[j] - alpha_jold) < 0.00001):\n",
    "                    continue\n",
    "\n",
    "\n",
    "                alphas[i] = alphas[i] + label_mat[j]*label_mat[i]*(alpha_jold - alphas[j])\n",
    "\n",
    "                # 第四小段代码\n",
    "                #添加量子计算swep-test计算向量内积\n",
    "                b1 = b - Ei + label_mat[i]*(alpha_iold - alphas[i])*np.dot(data_mat[i,:], data_mat[i,:].T) +\\\n",
    "                label_mat[j]*(alpha_jold - alphas[j])*np.dot(data_mat[i,:], data_mat[j,:].T)\n",
    "                b2 = b - Ej + label_mat[i]*(alpha_iold - alphas[i])*np.dot(data_mat[i,:], data_mat[j,:].T) +\\\n",
    "                label_mat[j]*(alpha_jold - alphas[j])*np.dot(data_mat[j,:], data_mat[j,:].T)\n",
    "                if (0 < alphas[i]) and (C > alphas[i]):\n",
    "                    b = b1\n",
    "                elif (0 < alphas[j]) and (C > alphas[j]):\n",
    "                    b = b2\n",
    "                else:\n",
    "                    b = (b1 + b2)/2.0\n",
    "                alpha_pairs_changed += 1\n",
    "        if (alpha_pairs_changed == 0): iter += 1\n",
    "        else: iter = 0\n",
    "    return b, alphas"
   ]
  },
  {
   "cell_type": "code",
   "execution_count": 13,
   "metadata": {},
   "outputs": [
    {
     "name": "stdout",
     "output_type": "stream",
     "text": [
      "[[-2.2173314]] [0.12935832 0.0128764  0.11652571]\n"
     ]
    }
   ],
   "source": [
    "b, alphas = smo_simple(data_mat, label_mat, 0.6, 0.001, 10)\n",
    "print(b, alphas[alphas>0])"
   ]
  },
  {
   "cell_type": "code",
   "execution_count": 16,
   "metadata": {},
   "outputs": [
    {
     "data": {
      "text/plain": [
       "Text(0, 0.5, 'factor2')"
      ]
     },
     "execution_count": 16,
     "metadata": {},
     "output_type": "execute_result"
    },
    {
     "data": {
      "image/png": "[encoded data removed]",
      "text/plain": [
       "<Figure size 720x360 with 1 Axes>"
      ]
     },
     "metadata": {},
     "output_type": "display_data"
    }
   ],
   "source": [
    "support_x = []\n",
    "support_y = []\n",
    "class1_x = []\n",
    "class1_y = []\n",
    "class01_x = []\n",
    "class01_y = []\n",
    "for i in range(20):\n",
    "    if alphas[i] > 0.0:\n",
    "        support_x.append(data_mat[i,0])\n",
    "        support_y.append(data_mat[i,1])        \n",
    "for i in range(20):\n",
    "    if label_mat[i] == 1:\n",
    "        class1_x.append(data_mat[i,0])\n",
    "        class1_y.append(data_mat[i,1])\n",
    "    else:\n",
    "        class01_x.append(data_mat[i,0])\n",
    "        class01_y.append(data_mat[i,1])       \n",
    "w_best = np.dot(np.multiply(alphas, label_mat).T, data_mat)\n",
    "fig, ax = plt.subplots(figsize=(10,5))\n",
    "ax.scatter(support_x, support_y, s=100, c=\"y\", marker=\"v\", label=\"support_v\")\n",
    "ax.scatter(class1_x, class1_y, s=30, c=\"b\", marker=\"o\", label=\"class 1\")\n",
    "ax.scatter(class01_x, class01_y, s=30, c=\"r\", marker=\"x\", label=\"class -1\")\n",
    "lin_x = np.linspace(3,6)\n",
    "lin_y = (-float(b) - w_best[0,0]*lin_x) / w_best[0,1]\n",
    "plt.plot(lin_x, lin_y, color=\"black\") \n",
    "ax.legend()\n",
    "ax.set_xlabel(\"factor1\")\n",
    "ax.set_ylabel(\"factor2\")"
   ]
  },
  {
   "cell_type": "code",
   "execution_count": null,
   "metadata": {},
   "outputs": [],
   "source": []
  }
 ],
 "metadata": {
  "kernelspec": {
   "display_name": "Python 3",
   "language": "python",
   "name": "python3"
  },
  "language_info": {
   "codemirror_mode": {
    "name": "ipython",
    "version": 3
   },
   "file_extension": ".py",
   "mimetype": "text/x-python",
   "name": "python",
   "nbconvert_exporter": "python",
   "pygments_lexer": "ipython3",
   "version": "3.6.4"
  }
 },
 "nbformat": 4,
 "nbformat_minor": 2
}
